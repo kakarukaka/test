{
 "cells": [
  {
   "cell_type": "code",
   "execution_count": null,
   "id": "5050c409-d059-493e-9461-3005337db032",
   "metadata": {},
   "outputs": [],
   "source": [
    "# 문제 옆에\n",
    "# *은 1점\n",
    "# .은 0.5점"
   ]
  },
  {
   "cell_type": "markdown",
   "id": "b7017ced-cd14-46d2-a1f2-27003dcb6f07",
   "metadata": {
    "jp-MarkdownHeadingCollapsed": true
   },
   "source": [
    "# 2부 파이썬"
   ]
  },
  {
   "cell_type": "markdown",
   "id": "be054760-6d57-4d7e-84f2-0ea8128a2a64",
   "metadata": {},
   "source": [
    "## 6장 문자열 조작"
   ]
  },
  {
   "cell_type": "markdown",
   "id": "73c19a27-94fd-4d94-a54b-123b44d14fb7",
   "metadata": {},
   "source": [
    "### 6-1 유효한 팰린드롬 *\n",
    "- 문자를 거꾸로 해도 같은 문장인지?\n",
    "- EX) 기러기 -> 기러기"
   ]
  },
  {
   "cell_type": "code",
   "execution_count": 30,
   "id": "df2e4648-8c47-4c05-ba4e-0a0a8d2f180e",
   "metadata": {},
   "outputs": [
    {
     "name": "stdin",
     "output_type": "stream",
     "text": [
      "단어 또는 문장 입력 :  A man, a plan, a canal: Panama\n"
     ]
    },
    {
     "name": "stdout",
     "output_type": "stream",
     "text": [
      "['a', 'm', 'a', 'n', 'a', 'p', 'l', 'a', 'n', 'a', 'c', 'a', 'n', 'a', 'l', 'p', 'a', 'n', 'a', 'm', 'a']\n",
      "['a', 'm', 'a', 'n', 'a', 'p', 'l', 'a', 'n', 'a', 'c', 'a', 'n', 'a', 'l', 'p', 'a', 'n', 'a', 'm']\n",
      "['a', 'm', 'a', 'n', 'a', 'p', 'l', 'a', 'n', 'a', 'c', 'a', 'n', 'a', 'l', 'p', 'a', 'n', 'a']\n",
      "['a', 'm', 'a', 'n', 'a', 'p', 'l', 'a', 'n', 'a', 'c', 'a', 'n', 'a', 'l', 'p', 'a', 'n']\n",
      "['a', 'm', 'a', 'n', 'a', 'p', 'l', 'a', 'n', 'a', 'c', 'a', 'n', 'a', 'l', 'p', 'a']\n",
      "['a', 'm', 'a', 'n', 'a', 'p', 'l', 'a', 'n', 'a', 'c', 'a', 'n', 'a', 'l', 'p']\n",
      "['a', 'm', 'a', 'n', 'a', 'p', 'l', 'a', 'n', 'a', 'c', 'a', 'n', 'a', 'l']\n",
      "['a', 'm', 'a', 'n', 'a', 'p', 'l', 'a', 'n', 'a', 'c', 'a', 'n', 'a']\n",
      "['a', 'm', 'a', 'n', 'a', 'p', 'l', 'a', 'n', 'a', 'c', 'a', 'n']\n",
      "['a', 'm', 'a', 'n', 'a', 'p', 'l', 'a', 'n', 'a', 'c', 'a']\n",
      "['a', 'm', 'a', 'n', 'a', 'p', 'l', 'a', 'n', 'a', 'c']\n"
     ]
    },
    {
     "data": {
      "text/plain": [
       "True"
      ]
     },
     "execution_count": 30,
     "metadata": {},
     "output_type": "execute_result"
    }
   ],
   "source": [
    "def isPalindrome(s:str) -> bool:\n",
    "    lst = []\n",
    "    for i in strs:\n",
    "        if i.isalnum():\n",
    "            lst.append(i.lower())\n",
    "    \n",
    "    for i in lst:\n",
    "        print(lst)\n",
    "        if i != lst.pop():\n",
    "            return False\n",
    "    return True\n",
    "    \n",
    "strs = input('단어 또는 문장 입력 : ')\n",
    "isPalindrome(strs)"
   ]
  },
  {
   "cell_type": "code",
   "execution_count": 31,
   "id": "2eb0cad2-02cc-4396-9a6e-b3805bd8b34b",
   "metadata": {},
   "outputs": [
    {
     "name": "stdin",
     "output_type": "stream",
     "text": [
      "단어 또는 문장 입력 :  A man, a plan, a canal: Panama\n"
     ]
    },
    {
     "data": {
      "text/plain": [
       "True"
      ]
     },
     "execution_count": 31,
     "metadata": {},
     "output_type": "execute_result"
    }
   ],
   "source": [
    "def isPalindrome(s:str) -> bool:\n",
    "    s = s.lower()\n",
    "\n",
    "    import re\n",
    "    s = re.sub('[^a-z0-9가-힣]','',s)\n",
    "    \n",
    "    return s == s[::-1]\n",
    "    \n",
    "strs = input('단어 또는 문장 입력 : ')\n",
    "isPalindrome(strs)"
   ]
  },
  {
   "cell_type": "markdown",
   "id": "7f56a9f5-25b0-4cc9-b688-02bc28653d13",
   "metadata": {},
   "source": [
    "### 6-2 문자열 뒤집기 *\n",
    "- 리턴값이 없어야 함 (return X)\n",
    "- 리스트로 입력함"
   ]
  },
  {
   "cell_type": "code",
   "execution_count": 35,
   "id": "c08e4d72-13c2-4714-a68f-0b6d5e1fa40f",
   "metadata": {},
   "outputs": [
    {
     "data": {
      "text/plain": [
       "['c', 'b', 'a']"
      ]
     },
     "execution_count": 35,
     "metadata": {},
     "output_type": "execute_result"
    }
   ],
   "source": [
    "from typing import List\n",
    "\n",
    "def reverseString(s : List[str]) -> None:\n",
    "    s.reverse()\n",
    "    \n",
    "a = ['a','b','c']\n",
    "reverseString(a)\n",
    "a"
   ]
  },
  {
   "cell_type": "code",
   "execution_count": 42,
   "id": "c60ad86e-ce20-4a4c-bdf6-bb5a6524cf45",
   "metadata": {},
   "outputs": [
    {
     "data": {
      "text/plain": [
       "['c', 'b', 'a']"
      ]
     },
     "execution_count": 42,
     "metadata": {},
     "output_type": "execute_result"
    }
   ],
   "source": [
    "from typing import List\n",
    "\n",
    "def reverseString(s : List[str]) -> None:\n",
    "    left, right = 0, len(s)-1\n",
    "    while left < right:\n",
    "        s[left], s[right] = s[right], s[left]\n",
    "        left += 1\n",
    "        right -= 1\n",
    "\n",
    "a = ['a','b','c']\n",
    "reverseString(a)\n",
    "a"
   ]
  },
  {
   "cell_type": "markdown",
   "id": "3d90dbf8-e0e9-4a09-a21a-c28d4b959a38",
   "metadata": {},
   "source": [
    "### 6-3 로그 파일 재정렬 *\n",
    "- 로그의 가장 앞 부분은 식별자\n",
    "- 문자로 구성된 로그가 숫자 로그보다 앞에 온다\n",
    "- 식별자는 순서에 영향을 끼치지 않지만, 문자가 동일할 경우 식별자 순으로 한다\n",
    "- 숫자 로그는 입력 순서대로 한다\n",
    "  "
   ]
  },
  {
   "cell_type": "code",
   "execution_count": 36,
   "id": "a41a7f60-e3c6-4ae5-9270-bfe206273a08",
   "metadata": {},
   "outputs": [
    {
     "data": {
      "text/plain": [
       "['let1 art can',\n",
       " 'let3 art zero',\n",
       " 'let2 own kit dig',\n",
       " 'dig1 8 1 5 1',\n",
       " 'dig2 3 6']"
      ]
     },
     "execution_count": 36,
     "metadata": {},
     "output_type": "execute_result"
    }
   ],
   "source": [
    "from typing import List\n",
    "\n",
    "def reorderLogFiles(logs: List[str]) -> List[str]:\n",
    "    str_lst, int_lst = [], []\n",
    "    for i, log in enumerate(logs):\n",
    "        if log.split(' ')[1].isdigit():\n",
    "            int_lst.append(log)\n",
    "        else:\n",
    "            str_lst.append(log)\n",
    "\n",
    "    str_lst = sorted(str_lst, key=lambda x: (x.split(' ')[1:], x.split(' ')[0]))\n",
    "    return str_lst + int_lst\n",
    "\n",
    "logs = [\"dig1 8 1 5 1\",\"let1 art can\", \"dig2 3 6\",'let2 own kit dig','let3 art zero']\n",
    "reorderLogFiles(logs)"
   ]
  },
  {
   "cell_type": "markdown",
   "id": "c186f0c3-ac7f-44fa-a54b-11626e88cbca",
   "metadata": {},
   "source": [
    "### 6-4 가장 흔한 단어 *.\n",
    "- 금지된 단어를 제외한 가장 흔하게 등장하는 단어를 출력하라\n",
    "- 대소문자 구분을 하지 않으며, 구두점(마침표, 쉼표 등) 또한 무시한다."
   ]
  },
  {
   "cell_type": "code",
   "execution_count": 60,
   "id": "1034aad4-1b14-41e1-9ce4-5c655e20d2f1",
   "metadata": {},
   "outputs": [
    {
     "data": {
      "text/plain": [
       "'ball'"
      ]
     },
     "execution_count": 60,
     "metadata": {},
     "output_type": "execute_result"
    }
   ],
   "source": [
    "def groupAnagrams(paragraph:str, banned:str) -> str:\n",
    "    import re\n",
    "    words = re.sub('[^a-z가-힣\\s]','',paragraph.lower()).split(' ')\n",
    "    words.remove(banned)\n",
    "    \n",
    "    result = {}\n",
    "    for word in words:\n",
    "        if word in result.keys():\n",
    "            result[word] += 1\n",
    "        else:\n",
    "            result[word] = 1\n",
    "    \n",
    "    return max(result, key=result.get)\n",
    "\n",
    "paragraph = 'Bob hit a ball, the hit BALL flew far after it was hit'\n",
    "banned = 'hit'\n",
    "groupAnagrams(paragraph, banned)"
   ]
  },
  {
   "cell_type": "markdown",
   "id": "da2a4fa1-2eb7-4f2b-bf92-8fd074df2ce2",
   "metadata": {},
   "source": [
    "### 6-5 그룹 애너그램 **\n",
    "- 문자열 배열을 받아 애너그램 단위로 그룹핑하라\n",
    "- 애너그램 : 문자를 재배열하여 다른 뜻을 가진 단어로 바꾸라는 의미 -> Ex) eat, ate, tea"
   ]
  },
  {
   "cell_type": "code",
   "execution_count": 80,
   "id": "778fd3e5-134a-4180-a3cc-6d1dedc47d3f",
   "metadata": {},
   "outputs": [
    {
     "data": {
      "text/plain": [
       "[['eat', 'tea', 'ate'], ['tan', 'nat'], ['bat']]"
      ]
     },
     "execution_count": 80,
     "metadata": {},
     "output_type": "execute_result"
    }
   ],
   "source": [
    "import collections\n",
    "from typing import List\n",
    "\n",
    "def groupAnagrams(strs: List[str]) -> List[List[str]]:\n",
    "    anagrams = collections.defaultdict(list)\n",
    "\n",
    "    for word in strs:\n",
    "        # 정렬하여 딕셔너리에 추가\n",
    "        anagrams[''.join(sorted(word))].append(word)\n",
    "    return list(anagrams.values())\n",
    "\n",
    "words_list = ['eat','tea','tan','ate','nat','bat']\n",
    "groupAnagrams(words_list)"
   ]
  },
  {
   "cell_type": "code",
   "execution_count": 81,
   "id": "5dbd5c47-6048-4610-9cde-7bb7e233e070",
   "metadata": {},
   "outputs": [
    {
     "data": {
      "text/plain": [
       "defaultdict(list,\n",
       "            {'aet': ['eat', 'tea', 'ate'],\n",
       "             'ant': ['tan', 'nat'],\n",
       "             'abt': ['bat']})"
      ]
     },
     "execution_count": 81,
     "metadata": {},
     "output_type": "execute_result"
    }
   ],
   "source": [
    "def groupAnagrams(strs: List[str]) -> List[List[str]]:\n",
    "    anagrams = collections.defaultdict(list)\n",
    "\n",
    "    for word in strs:\n",
    "        # 정렬하여 딕셔너리에 추가\n",
    "        anagrams[''.join(sorted(word))].append(word)\n",
    "    return anagrams\n",
    "\n",
    "words_list = ['eat','tea','tan','ate','nat','bat']\n",
    "groupAnagrams(words_list)"
   ]
  },
  {
   "cell_type": "code",
   "execution_count": 82,
   "id": "6cb4deef-b729-4ffa-8305-078cb6cdfa03",
   "metadata": {},
   "outputs": [
    {
     "data": {
      "text/plain": [
       "[['eat', 'tea', 'ate'], ['tan', 'nat'], ['bat']]"
      ]
     },
     "execution_count": 82,
     "metadata": {},
     "output_type": "execute_result"
    }
   ],
   "source": [
    "def groupAnagrams(strs: List[str]) -> List[List[str]]:\n",
    "    anagrams = {}\n",
    "    \n",
    "    for word in strs:\n",
    "        sorted_word = ''.join(sorted(word))\n",
    "    \n",
    "        if sorted_word in anagrams:\n",
    "            anagrams[sorted_word].append(word)\n",
    "        else:\n",
    "            anagrams[sorted_word] = [word]\n",
    "            \n",
    "    return list(anagrams.values())\n",
    "\n",
    "words_list = ['eat','tea','tan','ate','nat','bat']\n",
    "groupAnagrams(words_list)"
   ]
  },
  {
   "cell_type": "markdown",
   "id": "b042055e-5da3-4f07-b813-3a85fbaca048",
   "metadata": {},
   "source": [
    "### 6-6 가장 긴 팰린드롬 부분 문자열 **\n",
    "- 가장 긴 팰린드롬 부분 문자열을 출력하라\n",
    "- 팰린드롬 : 순서를 거꾸로 읽었을 때도 원래의 문자열이나 수열과 동일한 경우 -> babad - bab or aba, 간장공장공장장 - 장공장공장"
   ]
  },
  {
   "cell_type": "code",
   "execution_count": 111,
   "id": "af43a128-172c-4ae9-85bf-24bc8a7b9be0",
   "metadata": {},
   "outputs": [
    {
     "data": {
      "text/plain": [
       "'장공장공장'"
      ]
     },
     "execution_count": 111,
     "metadata": {},
     "output_type": "execute_result"
    }
   ],
   "source": [
    "# 내가 짠거\n",
    "# 간단해 보이지만 시간복잡도가 반복문에서 Big O(n^3)가 나오게 된다\n",
    "\n",
    "def longestPalindrome(word:str) -> str:\n",
    "    max_word = ''\n",
    "\n",
    "    for idx,i in enumerate(word):\n",
    "        for j in word[idx+1:]:\n",
    "            i += j \n",
    "            if i == i[::-1]:\n",
    "                if len(max_word) < len(i):\n",
    "                    max_word = i\n",
    "                \n",
    "    return max_word\n",
    "    \n",
    "word = '간장공장공장장'\n",
    "longestPalindrome(word)"
   ]
  },
  {
   "cell_type": "code",
   "execution_count": 109,
   "id": "60e24ec8-9976-434e-9fb7-8a92afc288ce",
   "metadata": {},
   "outputs": [
    {
     "data": {
      "text/plain": [
       "'장공장공장'"
      ]
     },
     "execution_count": 109,
     "metadata": {},
     "output_type": "execute_result"
    }
   ],
   "source": [
    "def longestPalindrome(s: str) -> str:\n",
    "    # 팰린드롬 판별 및 투 포인터 확장\n",
    "    def expand(left: int, right: int) -> str:\n",
    "        while left >= 0 and right < len(s) and s[left] == s[right]:\n",
    "            left -= 1\n",
    "            right += 1\n",
    "        return s[left + 1:right]\n",
    "\n",
    "    # 해당 사항이 없을때 빠르게 리턴\n",
    "    if len(s) < 2 or s == s[::-1]:\n",
    "        return s\n",
    "\n",
    "    result = ''\n",
    "    # 슬라이딩 윈도우 우측으로 이동\n",
    "    for i in range(len(s) - 1):\n",
    "        result = max(result,\n",
    "                    expand(i, i + 1),\n",
    "                    expand(i, i + 2),\n",
    "                    key=len)\n",
    "    return result\n",
    "\n",
    "word = '간장공장공장장'\n",
    "longestPalindrome(word)"
   ]
  },
  {
   "cell_type": "markdown",
   "id": "37ddb33f-39d3-4e1e-b75a-96308ed2e593",
   "metadata": {},
   "source": [
    "# 3부 선형 자료구조\n",
    "- 데이터 요소가 순차적으로 배열되는 자료구조\n",
    "- array, stack, queue, linked List\n",
    "- priority queue, hash table 등"
   ]
  },
  {
   "cell_type": "markdown",
   "id": "cf95b4f0-34ea-4581-af6e-50d62d458ca4",
   "metadata": {
    "jp-MarkdownHeadingCollapsed": true
   },
   "source": [
    "## 7장 Array\n",
    "- 값 또는 변수 element의 집합으로 구성된 구조\n",
    "- 하나 이상의 인덱스 또는 키로 식별"
   ]
  },
  {
   "cell_type": "markdown",
   "id": "9504936a-95dc-4ded-ae8e-8937fe468959",
   "metadata": {
    "jp-MarkdownHeadingCollapsed": true
   },
   "source": [
    "### 7-1 두 수의 합 *\n",
    "- 덧셈하여 타겟을 만들 수 있는 배열의 두 숫자 인덱스를 리턴하라\n",
    "- [1, 3, 5, 7] -> 두 수의 합으로 4가 나오는 요소는 [1, 3] "
   ]
  },
  {
   "cell_type": "code",
   "execution_count": 4,
   "id": "2c9dc53c-755f-4a11-920a-bc708575c159",
   "metadata": {},
   "outputs": [
    {
     "data": {
      "text/plain": [
       "[0, 1]"
      ]
     },
     "execution_count": 4,
     "metadata": {},
     "output_type": "execute_result"
    }
   ],
   "source": [
    "# 그냥 반복문으로 돌리기 - 내가 처음 생각나서 짠거\n",
    "# 부르트 포스로 계산(다만 비효율적인 반복문임)\n",
    "\n",
    "from typing import List\n",
    "def twoSum(nums:List[int], target:int) -> List[int]:\n",
    "    for i in range(len(nums)):\n",
    "        for j in range(len(nums[i+1:])):\n",
    "            if target == (nums[i] + nums[j]):\n",
    "                return [i , j]\n",
    "\n",
    "nums = [2, 7, 11, 15]\n",
    "target = 9\n",
    "twoSum(nums, target)"
   ]
  },
  {
   "cell_type": "code",
   "execution_count": 15,
   "id": "7619753a-f0e6-4223-93d3-a5f91b10075f",
   "metadata": {},
   "outputs": [
    {
     "data": {
      "text/plain": [
       "[0, 1]"
      ]
     },
     "execution_count": 15,
     "metadata": {},
     "output_type": "execute_result"
    }
   ],
   "source": [
    "# in을 이용한 탐색 - 책의 다른 방법 보고 푼거\n",
    "# 시간 복잡도 O(n*target/2)\n",
    "from typing import List\n",
    "def twoSum(nums:List[int], target:int) -> List[int]:\n",
    "    t1 = int(target/2)\n",
    "    for i in range(1, t1+1):\n",
    "        t2 = (target - i)\n",
    "        if (i in nums) and (t2 in nums):\n",
    "            return sorted([nums.index(i), nums.index(t2)])\n",
    "        \n",
    "\n",
    "nums = [2, 7, 11, 15]\n",
    "target = 9\n",
    "twoSum(nums, target)\n",
    "\n",
    "\n",
    "# 책 정답\n",
    "# 시간 복잡도 O(n^2)\n",
    "def twoSum(nums: List[int], target: int) -> List[int]:\n",
    "    for i, n in enumerate(nums):\n",
    "        complement = target - n\n",
    "\n",
    "        if complement in nums[i + 1:]:\n",
    "            return [nums.index(n), nums[i + 1:].index(complement) + (i + 1)]"
   ]
  },
  {
   "cell_type": "code",
   "execution_count": 7,
   "id": "074bac28-8cc6-4ff7-912c-8cc811c8b909",
   "metadata": {},
   "outputs": [
    {
     "data": {
      "text/plain": [
       "[1, 2]"
      ]
     },
     "execution_count": 7,
     "metadata": {},
     "output_type": "execute_result"
    }
   ],
   "source": [
    "# 첫 번째 수를 뺀 결과 키 조회 - 책의 다른 방법 보고 푼거\n",
    "# 못품\n",
    "# 평균 O(1), 최악 O(n)\n",
    "\n",
    "from typing import List\n",
    "def twoSum(nums: List[int], target: int) -> List[int]:\n",
    "    nums_map = {}\n",
    "    for i, num in enumerate(nums):\n",
    "        nums_map[num] = i\n",
    "    \n",
    "    for i, num in enumerate(nums):\n",
    "        if target - num in nums_map and i != nums_map[target - num]:\n",
    "            return [i, nums_map[target - num]]\n",
    "\n",
    "\n",
    "nums = [2, 7, 11, 15]\n",
    "target = 18\n",
    "twoSum(nums, target)\n"
   ]
  },
  {
   "cell_type": "code",
   "execution_count": 13,
   "id": "fba03a1a-b6ff-44c1-b3c5-bd76ba56b3e7",
   "metadata": {},
   "outputs": [
    {
     "data": {
      "text/plain": [
       "[1, 2]"
      ]
     },
     "execution_count": 13,
     "metadata": {},
     "output_type": "execute_result"
    }
   ],
   "source": [
    "# 조회 구조 개선 - 책의 다른 방법 보고 푼거\n",
    "# 바로 윗 함수 개선(다만 그렇게 성능상 이점은 거의 없다)\n",
    "\n",
    "from typing import List\n",
    "def twoSum(nums: List[int], target: int) -> List[int]:\n",
    "    nums_map = {}\n",
    "    for i, num in enumerate(nums):\n",
    "        nums_map[num] = i\n",
    "        if target - num in nums_map:\n",
    "            return [nums_map[target - num], i]\n",
    "\n",
    "nums = [2, 7, 11, 15]\n",
    "target = 18\n",
    "twoSum(nums, target)"
   ]
  },
  {
   "cell_type": "code",
   "execution_count": 16,
   "id": "9712ed67-e857-4052-9c1e-ddd6874d72c8",
   "metadata": {},
   "outputs": [
    {
     "data": {
      "text/plain": [
       "[1, 2]"
      ]
     },
     "execution_count": 16,
     "metadata": {},
     "output_type": "execute_result"
    }
   ],
   "source": [
    "# 투 포인터 이용 - 책의 다른 방법 보고 푼거\n",
    "# 이 함수의 조건은 입력값이 정렬되어 있어야 함\n",
    "# 내가 임의로 정렬을 하게 되면, 그에 따른 index도 섞이기 때문에 코드가 복잡해짐\n",
    "# 그렇기에 정렬되어 있다는 가정 하에 O(n)으로 가정\n",
    "\n",
    "from typing import List\n",
    "def twoSum(nums: List[int], target: int) -> List[int]:\n",
    "    first, last = 0, len(nums)-1\n",
    "    while first != last:\n",
    "        if nums[first]+nums[last] == target:\n",
    "            return [first, last]\n",
    "        elif nums[first]+nums[last] > target:\n",
    "            last -= 1\n",
    "        elif nums[first]+nums[last] < target:\n",
    "            first += 1\n",
    "\n",
    "nums = [2, 7, 11, 15]\n",
    "target = 18\n",
    "twoSum(nums, target)"
   ]
  },
  {
   "attachments": {
    "986204c2-f20f-4dbe-b8f7-0e1c4b2576f6.png": {
     "image/png": "[encoded data removed]"
    }
   },
   "cell_type": "markdown",
   "id": "2f1e8aef-21e5-4695-ad4a-7d5396e76d16",
   "metadata": {
    "jp-MarkdownHeadingCollapsed": true
   },
   "source": [
    "### 7-2 빗물 트래핑 ***\n",
    "- 높이를 입력받아 비 온 후 얼마나 많은 물이 쌓일 수 있는지 계산하라\n",
    "- 즉, 리스트로 숫자값을 받으면 -> 막대 그래프를 그린다 -> 숫자에 따라 막대 길이가 상이함\n",
    "- -> 막대 길이가 다르기에 빗물을 받을 수 있는 공간이 생김 -> 그 빗물의 양을 구하는 알고리즘\n",
    "\n",
    "- Ex) [1, 1, 0, 2, 1, 0, 1, 3, 2, 1, 2, 1] (검은칸) -> 6칸의 빗물(파란색) (축은 벽이 될 수 없음)\n",
    "![img.png](attachment:986204c2-f20f-4dbe-b8f7-0e1c4b2576f6.png)"
   ]
  },
  {
   "cell_type": "code",
   "execution_count": 56,
   "id": "4a873bc0-82f4-4b73-a4ee-ef5e30c7cebb",
   "metadata": {},
   "outputs": [
    {
     "data": {
      "text/plain": [
       "6"
      ]
     },
     "execution_count": 56,
     "metadata": {},
     "output_type": "execute_result"
    }
   ],
   "source": [
    "# 리스트 내의 숫자에서, 1씩 빼면서 0이하의 값이 있는 곳은 빗물이 있을것이다. 단 양쪽에 벽(숫자)이 있어야함\n",
    "# 시간복잡도 O(H * 2n^2) - 굉장히 비효율적\n",
    "\n",
    "from typing import List\n",
    "def trap(height: List[int]) -> int:\n",
    "    left, right = 0, len(height)-1\n",
    "    result = 0\n",
    "    for i in range(max(height)): # height 만큼의 시간복잡도 O(H)\n",
    "        for j in range(int(len(height)/2)): \n",
    "            if height[left] <= 0:\n",
    "                left += 1 \n",
    "            if height[right] <= 0 :\n",
    "                right -= 1\n",
    "            if left >= right:\n",
    "                break\n",
    "        height_re = height[left+1:right]\n",
    "        result += len(list(filter(lambda x : x <= 0, height_re)))\n",
    "        height = [k-1 for k in height]\n",
    "    return result\n",
    "        \n",
    "\n",
    "height = [1, 1, 0, 2, 1, 0, 1, 3, 2, 1, 2, 1]\n",
    "trap(height)"
   ]
  },
  {
   "cell_type": "code",
   "execution_count": 44,
   "id": "1f5f3968-537b-4151-9283-855c317005d3",
   "metadata": {},
   "outputs": [
    {
     "data": {
      "text/plain": [
       "6"
      ]
     },
     "execution_count": 44,
     "metadata": {},
     "output_type": "execute_result"
    }
   ],
   "source": [
    "# 투 포인터를 최대로 이동 - 책의 다른 방법 보고 푼거\n",
    "# 못품\n",
    "# 시간복잡도 O(n)\n",
    "from typing import List\n",
    "def trap(height: List[int]) -> int:\n",
    "    if not height:\n",
    "            return 0\n",
    "\n",
    "    volume = 0\n",
    "    left, right = 0, len(height) - 1\n",
    "    left_max, right_max = height[left], height[right]\n",
    "\n",
    "    while left < right:\n",
    "        left_max, right_max = max(height[left], left_max), max(height[right], right_max)\n",
    "        # 더 높은 쪽을 향해 투 포인터 이동\n",
    "        if left_max <= right_max:\n",
    "            volume += left_max - height[left]\n",
    "            left += 1\n",
    "        else:\n",
    "            volume += right_max - height[right]\n",
    "            right -= 1\n",
    "    return volume\n",
    "\n",
    "height = [1, 1, 0, 2, 1, 0, 1, 3, 2, 1, 2, 1]\n",
    "trap(height)"
   ]
  },
  {
   "cell_type": "code",
   "execution_count": 48,
   "id": "c7386530-4e17-4fd5-842c-b6ceb1defc3f",
   "metadata": {},
   "outputs": [
    {
     "name": "stdout",
     "output_type": "stream",
     "text": [
      "1\n",
      "1\n",
      "2\n",
      "2\n",
      "5\n",
      "6\n"
     ]
    },
    {
     "data": {
      "text/plain": [
       "6"
      ]
     },
     "execution_count": 48,
     "metadata": {},
     "output_type": "execute_result"
    }
   ],
   "source": [
    "# 스택 쌓기 - 책의 다른 방법 보고 푼거\n",
    "# 못품\n",
    "\n",
    "from typing import List\n",
    "def trap(height: List[int]) -> int:\n",
    "    stack = []\n",
    "    volume = 0\n",
    "\n",
    "    for i in range(len(height)):\n",
    "        while stack and height[i] > height[stack[-1]]:\n",
    "            top = stack.pop()\n",
    "\n",
    "            if not len(stack):\n",
    "                break\n",
    "\n",
    "            distance = i - stack[-1] -1\n",
    "            waters = min(height[i], height[stack[-1]]) - height[top]\n",
    "\n",
    "            volume += distance * waters\n",
    "            print(volume)\n",
    "        stack.append(i)\n",
    "    return volume\n",
    "    \n",
    "height = [1, 1, 0, 2, 1, 0, 1, 3, 2, 1, 2, 1]\n",
    "trap(height)"
   ]
  },
  {
   "cell_type": "markdown",
   "id": "7a38cd0c-c2a9-417d-ac7a-1d81680ecd63",
   "metadata": {
    "jp-MarkdownHeadingCollapsed": true
   },
   "source": [
    "### 7-3 세수의 합 **\n",
    "- 배열을 입력받아 합으로 0을 만들 수 있는 3개의 element를 출력하라\n",
    "- [-1, 0, 1, 2, -1, -4] -> [[-1, 0, 1], [-1, -1, 2]]"
   ]
  },
  {
   "cell_type": "code",
   "execution_count": 15,
   "id": "76d3abd3-7c58-413f-b6d8-cde474e1bace",
   "metadata": {
    "scrolled": true
   },
   "outputs": [
    {
     "data": {
      "text/plain": [
       "[[-1, -1, 2], [-1, 0, 1], [-1, 0, 1]]"
      ]
     },
     "execution_count": 15,
     "metadata": {},
     "output_type": "execute_result"
    }
   ],
   "source": [
    "# 내가 푼거(단순 반복문은 비효율이라 일부로 그렇게 안품)\n",
    "# 시간복잡도 O(n²) 이지만, 오류 하나 발생\n",
    "# 오류는 A 부분으로, 책의 투 포인터로 계산하기 방식에서 중복처리 및 스킵 처리 추가해야함\n",
    "# 단순 if문으로 중복처리 했더니 시간복잡도가 O(n^3)으로 늘어남...\n",
    "\n",
    "from typing import List\n",
    "def threeSum(nums: List[int]) -> List[List[int]]:\n",
    "    if len(nums) < 3:\n",
    "        return []\n",
    "        \n",
    "    nums = sorted(nums)\n",
    "    result = []\n",
    "    for i, start in enumerate(nums[:-2]):\n",
    "        left, right = i+1, len(nums)-1\n",
    "        while left < right:\n",
    "            two_sum = nums[left] + nums[right]\n",
    "            if start + two_sum < 0:\n",
    "                left += 1\n",
    "            elif start + two_sum > 0:\n",
    "                right -= 1\n",
    "            else : # A\n",
    "                result.append([start, nums[left], nums[right]])\n",
    "                left += 1\n",
    "                right -= 1\n",
    "                \n",
    "    return result\n",
    "        \n",
    "        \n",
    "\n",
    "nums = [-1, 0, 1, 2, -1, -4]\n",
    "threeSum(nums)"
   ]
  },
  {
   "cell_type": "code",
   "execution_count": 16,
   "id": "f493d33e-2231-412e-8787-0110279733e6",
   "metadata": {},
   "outputs": [
    {
     "data": {
      "text/plain": [
       "[[-1, -1, 2], [-1, 0, 1]]"
      ]
     },
     "execution_count": 16,
     "metadata": {},
     "output_type": "execute_result"
    }
   ],
   "source": [
    "# 브루트 포스로 계산 - 책의 방법으로 품\n",
    "# O(n^3) 굉장히 비효율\n",
    "\n",
    "def threeSum(nums: List[int]) -> List[List[int]]:\n",
    "    results = []\n",
    "    nums.sort()\n",
    "\n",
    "    # 브루트 포스 n^3 반복\n",
    "    for i in range(len(nums) - 2):\n",
    "        # 중복된 값 건너뛰기\n",
    "        if i > 0 and nums[i] == nums[i - 1]:\n",
    "            continue\n",
    "        for j in range(i + 1, len(nums) - 1):\n",
    "            if j > i + 1 and nums[j] == nums[j - 1]:\n",
    "                continue\n",
    "            for k in range(j + 1, len(nums)):\n",
    "                if k > j + 1 and nums[k] == nums[k - 1]:\n",
    "                    continue\n",
    "                if nums[i] + nums[j] + nums[k] == 0:\n",
    "                    results.append([nums[i], nums[j], nums[k]])\n",
    "\n",
    "    return results\n",
    "\n",
    "nums = [-1, 0, 1, 2, -1, -4]\n",
    "threeSum(nums)"
   ]
  },
  {
   "cell_type": "code",
   "execution_count": 17,
   "id": "27d1c809-a9df-41d2-a313-62de8344eb62",
   "metadata": {},
   "outputs": [
    {
     "data": {
      "text/plain": [
       "[[-1, -1, 2], [-1, 0, 1]]"
      ]
     },
     "execution_count": 17,
     "metadata": {},
     "output_type": "execute_result"
    }
   ],
   "source": [
    "# 투 포인터로 합 계산 - 책의 방법으로 풀기\n",
    "# O(n^2)\n",
    "\n",
    "def threeSum(nums: List[int]) -> List[List[int]]:\n",
    "        results = []\n",
    "        nums.sort()\n",
    "\n",
    "        for i in range(len(nums) - 2):\n",
    "            # 중복된 값 건너뛰기\n",
    "            if i > 0 and nums[i] == nums[i - 1]:\n",
    "                continue\n",
    "\n",
    "            # 간격을 좁혀가며 합 `sum` 계산\n",
    "            left, right = i + 1, len(nums) - 1\n",
    "            while left < right:\n",
    "                sum = nums[i] + nums[left] + nums[right]\n",
    "                if sum < 0:\n",
    "                    left += 1\n",
    "                elif sum > 0:\n",
    "                    right -= 1\n",
    "                else:\n",
    "                    # `sum = 0`인 경우이므로 정답 및 스킵 처리\n",
    "                    results.append([nums[i], nums[left], nums[right]])\n",
    "\n",
    "                    while left < right and nums[left] == nums[left + 1]:\n",
    "                        left += 1\n",
    "                    while left < right and nums[right] == nums[right - 1]:\n",
    "                        right -= 1\n",
    "                    left += 1\n",
    "                    right -= 1\n",
    "\n",
    "        return results\n",
    "    \n",
    "nums = [-1, 0, 1, 2, -1, -4]\n",
    "threeSum(nums)"
   ]
  },
  {
   "cell_type": "markdown",
   "id": "b77764b7-46b4-4dce-bbaf-36b45f909be8",
   "metadata": {},
   "source": [
    "### 7-4 배열 파티션 1 *\n",
    "- n개의 페어를 이용한 min(a, b)의 합으로 만들 수 있는 가장 큰 수를 출력하라\n",
    "- [1,4,3,2] -> 4\n",
    "- n은 2, 최대 합은 4-> min(1,2)+min(3,4)=4\n",
    "- (n개의 페어이므로 입력값은 2n개임)\n",
    "- (n개의 페어이지만, 그냥 1부터 순서대로 집어넣는거와 별반 차이가 없음)"
   ]
  },
  {
   "cell_type": "code",
   "execution_count": 4,
   "id": "79a5ad9e-8175-463f-aca7-ee8cccc932fe",
   "metadata": {},
   "outputs": [
    {
     "data": {
      "text/plain": [
       "9"
      ]
     },
     "execution_count": 4,
     "metadata": {},
     "output_type": "execute_result"
    }
   ],
   "source": [
    "# 내가 푼거\n",
    "# 오름차순으로 반복문으로 풀기\n",
    "\n",
    "from typing import List\n",
    "def threeSum(nums: List[int]) -> int:\n",
    "    sum = 0\n",
    "    pair = []\n",
    "    nums.sort()\n",
    "\n",
    "    for n in nums:\n",
    "        pair.append(n)\n",
    "        if len(pair) == 2:\n",
    "            sum += min(pair)\n",
    "            pair = []\n",
    "    return sum\n",
    "\n",
    "nums = [1,4,3,2,6,5]\n",
    "threeSum(nums)"
   ]
  },
  {
   "cell_type": "code",
   "execution_count": 5,
   "id": "8b4160ed-ad1b-435f-a066-fac65c447fae",
   "metadata": {},
   "outputs": [
    {
     "data": {
      "text/plain": [
       "9"
      ]
     },
     "execution_count": 5,
     "metadata": {},
     "output_type": "execute_result"
    }
   ],
   "source": [
    "# 내가 푼거\n",
    "# 짝수 번째 값 계산\n",
    "\n",
    "from typing import List\n",
    "def threeSum(nums: List[int]) -> int:\n",
    "    nums.sort()\n",
    "    sum = 0\n",
    "    sum_lst = [nums[i] for i in range(0, len(nums),2)]\n",
    "    for i in sum_lst: sum += i\n",
    "    return sum\n",
    "\n",
    "\n",
    "nums = [1,4,3,2,6,5]\n",
    "threeSum(nums)"
   ]
  },
  {
   "cell_type": "code",
   "execution_count": 9,
   "id": "1d44810f-811b-4030-870b-ca54ea4ad56b",
   "metadata": {},
   "outputs": [
    {
     "data": {
      "text/plain": [
       "9"
      ]
     },
     "execution_count": 9,
     "metadata": {},
     "output_type": "execute_result"
    }
   ],
   "source": [
    "# 내가 푼거\n",
    "# 파이썬 다운 방식(한줄로 답 내기)\n",
    "\n",
    "from typing import List\n",
    "def threeSum(nums: List[int]) -> int:\n",
    "    return sum(sorted(nums)[::2])\n",
    "\n",
    "nums = [1,4,3,2,6,5]\n",
    "threeSum(nums)"
   ]
  },
  {
   "cell_type": "markdown",
   "id": "a941b2b8-e309-46d8-8a5b-6a60cd106f6f",
   "metadata": {
    "jp-MarkdownHeadingCollapsed": true
   },
   "source": [
    "### 7-5 자신을 제외한 배열의 곱 **\n",
    "- 배열을 입력받아 output[i]가 자신을 제외한 나머지 모든 요소의 곱셈 결과가 되도록 출력\n",
    "- [1,2,3,4] -> [24,12,8,6]\n",
    "- 주의사항 : 나눗셈을 하지 않고 O(n)에 풀이하라\n",
    "- (나눗셈 풀이법으로는 input을 다 곱한다음에 input[i]별 나누어 주면 간단하게 답이 나옴)"
   ]
  },
  {
   "cell_type": "code",
   "execution_count": 21,
   "id": "3b6c7c3e-cee2-45d1-b9bf-3c156738e17f",
   "metadata": {},
   "outputs": [
    {
     "name": "stdout",
     "output_type": "stream",
     "text": [
      "[1, 1, 2, 6]\n",
      "1 [1, 1, 2, 6]\n",
      "4 [1, 1, 8, 6]\n",
      "12 [1, 12, 8, 6]\n",
      "24 [24, 12, 8, 6]\n"
     ]
    },
    {
     "data": {
      "text/plain": [
       "[24, 12, 8, 6]"
      ]
     },
     "execution_count": 21,
     "metadata": {},
     "output_type": "execute_result"
    }
   ],
   "source": [
    "# 못품 (구상한 것들이 시간복잡도 O(n)을 전부 초과함)\n",
    "# 책의 방식 - 왼쪽 곱셈 결과에 오른쪽 값을 차례대로 곱셈\n",
    "\n",
    "from typing import List\n",
    "def productExceptSelf(nums: List[int]) -> List[int]:\n",
    "        out = []\n",
    "        p = 1\n",
    "        # 왼쪽 곱셈\n",
    "        for i in range(0, len(nums)): # O(n)\n",
    "            out.append(p)\n",
    "            p = p * nums[i]\n",
    "        print(out)\n",
    "        p = 1\n",
    "        # 왼쪽 곱셈 결과에 오른쪽 값을 차례대로 곱셈\n",
    "        for i in range(len(nums) - 1, 0 - 1, -1): # O(n)\n",
    "            out[i] = out[i] * p\n",
    "            print(p, out)\n",
    "            p = p * nums[i]\n",
    "            \n",
    "\n",
    "        # for문이 독립적으로 있기에 O(n)+O(n) = O(n)으로 취급함\n",
    "        # 단 이중 for문이라면 O(n)*O(n) = O(n^2)가 됨\n",
    "        return out\n",
    "\n",
    "\n",
    "nums = [1,2,3,4]\n",
    "productExceptSelf(nums)"
   ]
  },
  {
   "cell_type": "markdown",
   "id": "de6b0d5e-1ce0-4eb2-a58d-b3b6d8c9a70e",
   "metadata": {},
   "source": [
    "### 7-6 주식을 사고팔기 가장 좋은 시점 *\n",
    "- 한 번의 거래로 낼 수 있는 최대 이익을 산출하라\n",
    "- [7,1,5,3,6,4] -> 5\n",
    "- 1일때 사서 6일때 팔면 5의 이익을 얻는다.\n",
    "- 즉 저 입력값이 시계열이라 생각하면 됨"
   ]
  },
  {
   "cell_type": "code",
   "execution_count": 38,
   "id": "44973d98-837f-4b4b-adcd-7e82cc34b96f",
   "metadata": {},
   "outputs": [
    {
     "data": {
      "text/plain": [
       "5"
      ]
     },
     "execution_count": 38,
     "metadata": {},
     "output_type": "execute_result"
    }
   ],
   "source": [
    "# 내가 푼거\n",
    "# max이용해서 풀기(책의 브루트 포스 계산과 유사)\n",
    "# 시간복잡도 O(n^2) 비효율\n",
    "\n",
    "from typing import List\n",
    "def maxProfit(prices: List[int]) -> int:\n",
    "    result = 0\n",
    "\n",
    "    for idx,i in enumerate(prices[:-1]): # O(n)\n",
    "        new = max(prices[idx+1:]) - i # O(n)\n",
    "        if result < new: result = new\n",
    "    \n",
    "    return result # O(n) * O(n) = O(n^2)\n",
    "\n",
    "prices = [7,1,5,3,6,4]\n",
    "maxProfit(prices)"
   ]
  },
  {
   "cell_type": "code",
   "execution_count": 40,
   "id": "42e7913b-a04c-4e69-a81c-0e768552d7e2",
   "metadata": {},
   "outputs": [
    {
     "data": {
      "text/plain": [
       "5"
      ]
     },
     "execution_count": 40,
     "metadata": {},
     "output_type": "execute_result"
    }
   ],
   "source": [
    "# 위 과정을 최적화 하면 \n",
    "# 책의 방식 - 저점과 현재 값과의 차이 계산\n",
    "\n",
    "from typing import List\n",
    "def maxProfit(prices: List[int]) -> int:\n",
    "    result = 0\n",
    "    min_price = max(prices) # 또는 무한대나, 시스템 최댓값으로 설정해도 됨\n",
    "\n",
    "    for i in prices:\n",
    "        min_price = min(min_price, i) # 위와 달리 두개로 min함수를 돌리기에 O(1)임\n",
    "        result = max(result, i - min_price) # 마찬가지\n",
    "    return result # O(n) * O(1) * O(1) = O(n)\n",
    "\n",
    "prices = [7,1,5,3,6,4]\n",
    "maxProfit(prices)"
   ]
  },
  {
   "cell_type": "markdown",
   "id": "0ab35164-89b1-4521-ae07-60dec1a7b0d1",
   "metadata": {},
   "source": [
    "## 8장 연결 리스트\n",
    "- class와 재귀 동작을 이해해야 난이도가 아래 나와있는 것처럼 느껴짐"
   ]
  },
  {
   "cell_type": "markdown",
   "id": "0a5b46e8-9ebb-4289-b868-0bd4137754dd",
   "metadata": {
    "jp-MarkdownHeadingCollapsed": true
   },
   "source": [
    "### 8-1 팰린드롬 연결 리스트 *\n",
    "- 연결 리스트가 팰린드롬 구조인지 판별하라\n",
    "- 팰린드롬 : 역으로 추출해도 원본과 같은지?\n",
    "- 1->2 : False, 1->2->2->1 : True"
   ]
  },
  {
   "cell_type": "code",
   "execution_count": 43,
   "id": "f1931970-46b8-47bc-86e3-f23b05b9eaa8",
   "metadata": {},
   "outputs": [
    {
     "name": "stdout",
     "output_type": "stream",
     "text": [
      "False\n",
      "True\n"
     ]
    }
   ],
   "source": [
    "# 내가 푼거(첨이라 클래스 구조만 배낌)\n",
    "# \n",
    "from typing import List\n",
    "class ListNode:\n",
    "    def __init__(self, x):\n",
    "        self.val = x\n",
    "        self.next = None\n",
    "\n",
    "class Solution:\n",
    "    def isPalindrome(self, head: ListNode) -> bool:\n",
    "        q: List = []\n",
    "\n",
    "        if not head:\n",
    "            return False\n",
    "\n",
    "        node = head\n",
    "        while node is not None:\n",
    "            q.append(node.val)\n",
    "            node = node.next\n",
    "\n",
    "        while len(q) > 1:\n",
    "            if q.pop(0) != q.pop():\n",
    "                return False\n",
    "        return True\n",
    "\n",
    "def test1():\n",
    "    head = ListNode(1)\n",
    "    head.next = ListNode(2)\n",
    "    print(Solution().isPalindrome(head))\n",
    "\n",
    "def test2():\n",
    "    head = ListNode(1)\n",
    "    head.next = ListNode(2)\n",
    "    head.next.next = ListNode(2)\n",
    "    head.next.next.next = ListNode(1)\n",
    "    print(Solution().isPalindrome(head))\n",
    "    \n",
    "test1()\n",
    "test2()"
   ]
  },
  {
   "cell_type": "code",
   "execution_count": 44,
   "id": "39435ac8-4a1a-44f9-8dc2-e8555b8333f9",
   "metadata": {},
   "outputs": [
    {
     "name": "stdout",
     "output_type": "stream",
     "text": [
      "False\n",
      "True\n"
     ]
    }
   ],
   "source": [
    "# 책의 방식 - 데크를 이용한 최적화\n",
    "# deque를 쓰는 이유는 그냥 리스트로 할 경우, q.pop(0)은 맨 앞에를 꺼내지만\n",
    "# 꺼내는 순간 리스트 자체가 앞당겨지고, 그러면 속도가 O(n)이 된다.\n",
    "# 리스트에서 q.pop(0) -> deque는 q.popleft()\n",
    "\n",
    "from typing import List\n",
    "from collections import deque\n",
    "\n",
    "class ListNode:\n",
    "    def __init__(self, x):\n",
    "        self.val = x\n",
    "        self.next = None\n",
    "\n",
    "class Solution:\n",
    "    def isPalindrome(self, head: ListNode) -> bool:\n",
    "        q = deque()\n",
    "        \n",
    "        if not head:\n",
    "            return False\n",
    "\n",
    "        node = head\n",
    "        while node is not None:\n",
    "            q.append(node.val)\n",
    "            node = node.next\n",
    "\n",
    "        while len(q) > 1:\n",
    "            if q.popleft() != q.pop():\n",
    "                return False\n",
    "        return True\n",
    "\n",
    "def test1():\n",
    "    head = ListNode(1)\n",
    "    head.next = ListNode(2)\n",
    "    print(Solution().isPalindrome(head))\n",
    "\n",
    "def test2():\n",
    "    head = ListNode(1)\n",
    "    head.next = ListNode(2)\n",
    "    head.next.next = ListNode(2)\n",
    "    head.next.next.next = ListNode(1)\n",
    "    print(Solution().isPalindrome(head))\n",
    "    \n",
    "test1()\n",
    "test2()"
   ]
  },
  {
   "cell_type": "code",
   "execution_count": 45,
   "id": "a2996b6d-7f6e-4eb7-a93a-971ed56f3684",
   "metadata": {},
   "outputs": [
    {
     "name": "stdout",
     "output_type": "stream",
     "text": [
      "False\n",
      "True\n"
     ]
    }
   ],
   "source": [
    "# 책의 방식 - 런너를 이용한 우아한 풀이\n",
    "# 못품\n",
    "\n",
    "class ListNode:\n",
    "    def __init__(self, x):\n",
    "        self.val = x\n",
    "        self.next = None\n",
    "\n",
    "\n",
    "class Solution:\n",
    "    def isPalindrome(self, head: ListNode) -> bool:\n",
    "        rev = None\n",
    "        slow = fast = head\n",
    "        # 런너를 이용해 역순 연결 리스트 구성\n",
    "        while fast and fast.next:\n",
    "            fast = fast.next.next\n",
    "            rev, rev.next, slow = slow, rev, slow.next # 반드시 이렇게 삼중 할당으로 해야 문제가 풀림\n",
    "        if fast:\n",
    "            slow = slow.next\n",
    "\n",
    "        # 팰린드롬 여부 확인\n",
    "        while rev and rev.val == slow.val:\n",
    "            slow, rev = slow.next, rev.next\n",
    "        return not rev\n",
    "\n",
    "def test1():\n",
    "    head = ListNode(1)\n",
    "    head.next = ListNode(2)\n",
    "    print(Solution().isPalindrome(head))\n",
    "\n",
    "def test2():\n",
    "    head = ListNode(1)\n",
    "    head.next = ListNode(2)\n",
    "    head.next.next = ListNode(2)\n",
    "    head.next.next.next = ListNode(1)\n",
    "    print(Solution().isPalindrome(head))\n",
    "    \n",
    "test1()\n",
    "test2()"
   ]
  },
  {
   "cell_type": "markdown",
   "id": "fdc246d5-fbc5-437c-aa5f-829b586167e2",
   "metadata": {
    "jp-MarkdownHeadingCollapsed": true
   },
   "source": [
    "### 8-2 두 정렬 리스트의 병합 *\n",
    "- 정렬되어 있는 두 연결 리스트를 합쳐라\n",
    "- 1->2->4, 1->3->4 = 1->1->2->3->4->4"
   ]
  },
  {
   "cell_type": "code",
   "execution_count": 69,
   "id": "ad3e5649-6ea8-4e6d-b03e-6c8065d7de61",
   "metadata": {},
   "outputs": [],
   "source": [
    "# 못품\n",
    "# 재귀 구조로 연결\n",
    "\n",
    "class ListNode:\n",
    "    def __init__(self, x):\n",
    "        self.val = x\n",
    "        self.next = None\n",
    "\n",
    "\n",
    "class Solution:\n",
    "    def mergeTwoLists(self, l1: ListNode, l2: ListNode) -> ListNode:\n",
    "        if (not l1) or (l2 and l1.val > l2.val):\n",
    "            l1, l2 = l2, l1\n",
    "        if l1:\n",
    "            l1.next = self.mergeTwoLists(l1.next, l2)\n",
    "        return l1 \n",
    "\n",
    "def test():\n",
    "    a = [1,2,4]\n",
    "    b = [1,3,4]\n",
    "    \n",
    "    # l1 리스트 생성\n",
    "    l1 = ListNode(a[0])\n",
    "    current_l1 = l1  # 현재 노드를 가리키는 포인터\n",
    "    for i in a[1:]:\n",
    "        current_l1.next = ListNode(i)\n",
    "        current_l1 = current_l1.next\n",
    "    \n",
    "    # l2 리스트 생성\n",
    "    l2 = ListNode(b[0])\n",
    "    current_l2 = l2  # 현재 노드를 가리키는 포인터\n",
    "    for i in b[1:]:\n",
    "        current_l2.next = ListNode(i)\n",
    "        current_l2 = current_l2.next\n",
    "    \n",
    "    # 여기서 l1과 l2를 사용할 수 있음\n",
    "    # 예: 두 리스트를 병합하거나 다른 연산 수행\n",
    "    \n",
    "test()"
   ]
  },
  {
   "cell_type": "code",
   "execution_count": 71,
   "id": "4c1a06bf-9f2e-46f1-9087-49566f2f02a4",
   "metadata": {},
   "outputs": [
    {
     "name": "stdout",
     "output_type": "stream",
     "text": [
      "리스트 1:\n",
      "1->2->4\n",
      "리스트 2:\n",
      "1->3->4\n",
      "병합된 리스트:\n",
      "1->1->2->3->4->4\n"
     ]
    }
   ],
   "source": [
    "# 위 코드는 객체값이라 내가 출력해도 정답인지 알 수가 없음\n",
    "# 그래서 따로 __str__를 만들어서 출력\n",
    "\n",
    "class ListNode:\n",
    "    def __init__(self, x):\n",
    "        self.val = x\n",
    "        self.next = None\n",
    "    \n",
    "    # 노드 출력을 위한 메서드 추가\n",
    "    def __str__(self):\n",
    "        return str(self.val)\n",
    "\n",
    "class Solution:\n",
    "    def mergeTwoLists(self, l1: ListNode, l2: ListNode) -> ListNode:\n",
    "        if (not l1) or (l2 and l1.val > l2.val):\n",
    "            l1, l2 = l2, l1\n",
    "        if l1:\n",
    "            l1.next = self.mergeTwoLists(l1.next, l2)\n",
    "        return l1\n",
    "\n",
    "# 연결 리스트 출력을 위한 함수\n",
    "def print_list(head):\n",
    "    result = []\n",
    "    current = head\n",
    "    while current:\n",
    "        result.append(str(current.val))\n",
    "        current = current.next\n",
    "    print(\"->\".join(result))\n",
    "\n",
    "def test():\n",
    "    a = [1,2,4]\n",
    "    b = [1,3,4]\n",
    "    \n",
    "    # l1 리스트 생성\n",
    "    l1 = ListNode(a[0])\n",
    "    current_l1 = l1\n",
    "    for i in a[1:]:\n",
    "        current_l1.next = ListNode(i)\n",
    "        current_l1 = current_l1.next\n",
    "    \n",
    "    # l2 리스트 생성\n",
    "    l2 = ListNode(b[0])\n",
    "    current_l2 = l2\n",
    "    for i in b[1:]:\n",
    "        current_l2.next = ListNode(i)\n",
    "        current_l2 = current_l2.next\n",
    "    \n",
    "    # 두 리스트 출력\n",
    "    print(\"리스트 1:\")\n",
    "    print_list(l1)\n",
    "    \n",
    "    print(\"리스트 2:\")\n",
    "    print_list(l2)\n",
    "    \n",
    "    # 두 리스트 병합\n",
    "    solution = Solution()\n",
    "    merged = solution.mergeTwoLists(l1, l2)\n",
    "    \n",
    "    # 병합된 리스트 출력\n",
    "    print(\"병합된 리스트:\")\n",
    "    print_list(merged)\n",
    "\n",
    "test()"
   ]
  },
  {
   "cell_type": "markdown",
   "id": "e5f93392-67f8-4e17-ad3f-a164517a6495",
   "metadata": {},
   "source": [
    "### 8-3 역순 연결 리스트 *\n",
    "- 연결 리스트를 뒤집어라\n",
    "- 1->2->3->4->5->NULL -> NULL->5->4->3->2->1"
   ]
  },
  {
   "cell_type": "code",
   "execution_count": null,
   "id": "af0370ad-2cdd-4096-90c6-37b24d11c681",
   "metadata": {},
   "outputs": [],
   "source": []
  }
 ],
 "metadata": {
  "kernelspec": {
   "display_name": "Python 3 (ipykernel)",
   "language": "python",
   "name": "python3"
  },
  "language_info": {
   "codemirror_mode": {
    "name": "ipython",
    "version": 3
   },
   "file_extension": ".py",
   "mimetype": "text/x-python",
   "name": "python",
   "nbconvert_exporter": "python",
   "pygments_lexer": "ipython3",
   "version": "3.11.10"
  }
 },
 "nbformat": 4,
 "nbformat_minor": 5
}
