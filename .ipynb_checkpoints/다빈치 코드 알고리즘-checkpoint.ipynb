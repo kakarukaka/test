{
 "cells": [
  {
   "cell_type": "markdown",
   "id": "364ca5d1-8fe9-4d3d-bcd5-44ee2edd9df7",
   "metadata": {},
   "source": [
    "# 1. 기초 알고리즘"
   ]
  },
  {
   "cell_type": "markdown",
   "id": "aa81295f-2a71-4f86-9c17-24359aaecb96",
   "metadata": {},
   "source": [
    "## 1.1 수학"
   ]
  },
  {
   "cell_type": "markdown",
   "id": "0a2be6e6-fc9f-46ba-bcd3-0ef3400d5ce6",
   "metadata": {},
   "source": [
    "### 1.1.1 1부터 n까지의 합계 구하기"
   ]
  },
  {
   "cell_type": "code",
   "execution_count": 9,
   "id": "ec0d3e5e-0c89-4b60-a4cb-b62f27548094",
   "metadata": {},
   "outputs": [
    {
     "name": "stdin",
     "output_type": "stream",
     "text": [
      "숫자 입력 :  10\n"
     ]
    },
    {
     "name": "stdout",
     "output_type": "stream",
     "text": [
      "55\n"
     ]
    }
   ],
   "source": [
    "n = int(input('숫자 입력 : '))\n",
    "sum = 0\n",
    "for i in range(1,n+1):\n",
    "    sum += i\n",
    "print(sum)"
   ]
  },
  {
   "cell_type": "code",
   "execution_count": 12,
   "id": "26c133c7-fe39-4fdf-8625-cb1a6de197a6",
   "metadata": {},
   "outputs": [
    {
     "name": "stdin",
     "output_type": "stream",
     "text": [
      "숫자 입력 :  10\n"
     ]
    },
    {
     "name": "stdout",
     "output_type": "stream",
     "text": [
      "55\n"
     ]
    }
   ],
   "source": [
    "n = int(input('숫자 입력 : '))\n",
    "\n",
    "cnt = 1\n",
    "sum = 0\n",
    "\n",
    "while cnt <= n:\n",
    "    sum += cnt\n",
    "    cnt += 1\n",
    "print(sum)"
   ]
  },
  {
   "cell_type": "code",
   "execution_count": 13,
   "id": "a8fe276e-0f90-4fb2-95c9-0643868678aa",
   "metadata": {},
   "outputs": [
    {
     "name": "stdin",
     "output_type": "stream",
     "text": [
      "숫자 입력 :  10\n"
     ]
    },
    {
     "name": "stdout",
     "output_type": "stream",
     "text": [
      "55.0\n"
     ]
    }
   ],
   "source": [
    "n = int(input('숫자 입력 : '))\n",
    "\n",
    "result = (n+1) * n / 2\n",
    "print(result)"
   ]
  },
  {
   "cell_type": "markdown",
   "id": "704e5dc8-2892-426b-aa7a-319b736aa509",
   "metadata": {},
   "source": [
    "### 1.1.2 최댓값, 최솟값 구하기"
   ]
  },
  {
   "cell_type": "code",
   "execution_count": 20,
   "id": "ef69e83f-a7cb-4432-834a-885ae56c2864",
   "metadata": {},
   "outputs": [
    {
     "name": "stdin",
     "output_type": "stream",
     "text": [
      "숫자 입력 :  1 2 5 7 4 6\n"
     ]
    },
    {
     "name": "stdout",
     "output_type": "stream",
     "text": [
      "7\n"
     ]
    }
   ],
   "source": [
    "arr = list(map(int, input('숫자 입력 : ').split()))\n",
    "\n",
    "max = arr[0]\n",
    "\n",
    "for i in arr[1:]:\n",
    "    if max < i:\n",
    "        max = i\n",
    "print(max)\n",
    "    "
   ]
  },
  {
   "cell_type": "markdown",
   "id": "bba88fca-0d1c-4e0c-bfd7-858d6d2efcba",
   "metadata": {},
   "source": [
    "### 1.1.3 소수 구하기"
   ]
  },
  {
   "cell_type": "code",
   "execution_count": 28,
   "id": "1fb0cb86-d562-4de2-bd9c-b8dea42c457f",
   "metadata": {},
   "outputs": [
    {
     "name": "stdin",
     "output_type": "stream",
     "text": [
      "숫자 입력 :  217\n"
     ]
    },
    {
     "name": "stdout",
     "output_type": "stream",
     "text": [
      "소수 X\n"
     ]
    }
   ],
   "source": [
    "num = int(input('숫자 입력 : '))\n",
    "\n",
    "TF = True\n",
    "for i in range(2, int(num**0.5)+1):\n",
    "    if num % i == 0:\n",
    "        TF = False\n",
    "\n",
    "if TF:\n",
    "    print('소수')\n",
    "else :\n",
    "    print('소수 X')\n"
   ]
  },
  {
   "cell_type": "code",
   "execution_count": 29,
   "id": "aa4af16c-7a1a-46ae-9a85-2ffd5f1754a2",
   "metadata": {},
   "outputs": [
    {
     "name": "stdin",
     "output_type": "stream",
     "text": [
      "숫자 입력 :  23\n"
     ]
    },
    {
     "name": "stdout",
     "output_type": "stream",
     "text": [
      "23중 소수는 [2, 3, 5, 7, 11, 13, 17, 19, 23]로 총 9개 입니다.\n"
     ]
    }
   ],
   "source": [
    "num = int(input('숫자 입력 : '))\n",
    "\n",
    "\n",
    "cnt_lst = []\n",
    "\n",
    "for i in range(2, num+1):\n",
    "    TF = True\n",
    "    for j in range(2, int(i**0.5)+1):\n",
    "        if i % j == 0:\n",
    "            TF = False\n",
    "            \n",
    "    if TF:\n",
    "        cnt_lst.append(i)\n",
    "\n",
    "print(f'{num}중 소수는 {cnt_lst}로 총 {len(cnt_lst)}개 입니다.')      "
   ]
  },
  {
   "cell_type": "markdown",
   "id": "ae79ebdb-67f4-44be-aae1-e596b6a7c599",
   "metadata": {},
   "source": [
    "### 1.1.4 에라토스테네스의 체\n",
    "- 대량의 소수를 빠르게 찾을 때 사용하는 알고리즘\n",
    "  \n",
    "1. 1은 소수가 아니므로 제외합니다.\n",
    "2. 2부터 시작하여 2는 소수가 되고, 2의 배수는 모두 소수가 아니게 됩니다.\n",
    "3. 3은 소수이고, 3의 배수는 모두 소수가 아니게 됩니다.\n",
    "4. 4는 이미 2의 배수이기 때문에 소수가 아닙니다.\n",
    "5. 5는 소수이고, 5의 배수는 모두 소수가 아니게 됩니다."
   ]
  },
  {
   "cell_type": "code",
   "execution_count": 33,
   "id": "c48a7e50-c6d1-44d1-8bc5-1fe5a7a67bf8",
   "metadata": {},
   "outputs": [
    {
     "name": "stdout",
     "output_type": "stream",
     "text": [
      "2부터 100 까지 소수는 총 25개 있습니다.\n"
     ]
    }
   ],
   "source": [
    "num = 100\n",
    "prime = [True] * (num + 1) # 처음엔 모두 소수로 초기화합니다.\n",
    "prime[0], prime[1] = False, False\n",
    "\n",
    "for i in range(2, num + 1):\n",
    "    if prime[i]:\n",
    "        for j in range(i+1, num+1):\n",
    "            if j % i == 0:\n",
    "                prime[j] = False\n",
    "#        좀 더 효율적으로 하기 위해서는        \n",
    "#        for j in range(i * 2, num+1, i): # i * 2부터 i의 배수를 순회합니다.\n",
    "#            prime[j] = False # i의 배수는 모두 소수가 아닙니다.\n",
    "\n",
    "result = 0\n",
    "for i in range(num+1):\n",
    "    if prime[i]:\n",
    "        result += 1\n",
    "\n",
    "print(f'2부터 {num} 까지 소수는 총 {result}개 있습니다.')"
   ]
  },
  {
   "cell_type": "markdown",
   "id": "a44b3924-c500-4b30-97e0-5b5a74cf9ae9",
   "metadata": {},
   "source": [
    "### 1.1.5 유클리드 호제법\n",
    "- 최대 공약수를 구하는 알고리즘"
   ]
  },
  {
   "cell_type": "code",
   "execution_count": 2,
   "id": "69e1bffc-932d-4750-b808-315adb7cbf9d",
   "metadata": {},
   "outputs": [
    {
     "name": "stdout",
     "output_type": "stream",
     "text": [
      "hi\n"
     ]
    }
   ],
   "source": [
    "print('hi')"
   ]
  },
  {
   "cell_type": "code",
   "execution_count": null,
   "id": "41af374c-6ba4-40e6-a1a3-5a64e40563dd",
   "metadata": {},
   "outputs": [],
   "source": []
  }
 ],
 "metadata": {
  "kernelspec": {
   "display_name": "Python 3 (ipykernel)",
   "language": "python",
   "name": "python3"
  },
  "language_info": {
   "codemirror_mode": {
    "name": "ipython",
    "version": 3
   },
   "file_extension": ".py",
   "mimetype": "text/x-python",
   "name": "python",
   "nbconvert_exporter": "python",
   "pygments_lexer": "ipython3",
   "version": "3.11.10"
  }
 },
 "nbformat": 4,
 "nbformat_minor": 5
}
